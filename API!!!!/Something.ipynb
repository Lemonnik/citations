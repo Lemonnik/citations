{
 "cells": [
  {
   "cell_type": "markdown",
   "metadata": {},
   "source": [
    "Парсим по API вместо самого pubmed'а"
   ]
  },
  {
   "cell_type": "code",
   "execution_count": 1,
   "metadata": {},
   "outputs": [],
   "source": [
    "# https://gist.github.com/bonzanini/5a4c39e4c02502a8451d -- пример кода\n",
    "# https://biopython.org/docs/latest/api/Bio.Entrez.html?highlight=pubmed -- документация\n",
    "\n",
    "from Bio import Entrez"
   ]
  },
  {
   "cell_type": "code",
   "execution_count": 2,
   "metadata": {},
   "outputs": [],
   "source": [
    "# это просто на всякий случай\n",
    "\n",
    "def search(query):\n",
    "    Entrez.email = 'your.email@example.com'\n",
    "    handle = Entrez.esearch(db='pubmed',\n",
    "                            sort='relevance',\n",
    "                            retmax='20',\n",
    "                            retmode='xml',\n",
    "                            term=query)\n",
    "    results = Entrez.read(handle)\n",
    "    return results"
   ]
  },
  {
   "cell_type": "code",
   "execution_count": 19,
   "metadata": {},
   "outputs": [
    {
     "data": {
      "text/plain": [
       "['30784211', '23912772']"
      ]
     },
     "execution_count": 19,
     "metadata": {},
     "output_type": "execute_result"
    }
   ],
   "source": [
    "results = search('Dat-ko')\n",
    "results['IdList']"
   ]
  },
  {
   "cell_type": "code",
   "execution_count": 4,
   "metadata": {},
   "outputs": [],
   "source": [
    "def fetch_details(id_list):\n",
    "    ids = ','.join(id_list)\n",
    "    Entrez.email = 'your.email@example.com'  # не забудь поменять на свой мэйл\n",
    "    handle = Entrez.efetch(db='pubmed',\n",
    "                           retmode='xml',\n",
    "                           id=ids)\n",
    "    results = Entrez.read(handle)\n",
    "    return results"
   ]
  },
  {
   "cell_type": "code",
   "execution_count": 22,
   "metadata": {},
   "outputs": [],
   "source": []
  },
  {
   "cell_type": "code",
   "execution_count": null,
   "metadata": {},
   "outputs": [],
   "source": [
    "# разбор всех элементов можно найти здесь: https://www.nlm.nih.gov/bsd/licensee/elements_descriptions.html"
   ]
  },
  {
   "cell_type": "code",
   "execution_count": 66,
   "metadata": {},
   "outputs": [],
   "source": [
    "paper = fetch_details(['5660041'])"
   ]
  },
  {
   "cell_type": "markdown",
   "metadata": {},
   "source": [
    "Результат для статьи с PMID = 5660041 должен выглядеть так:\n",
    "\n",
    "Huston R.B. Activation of Skeletal Muscle Phosphorylase Kinase by Ca2+. II. Identification of the Kinase Activating Factor as a Proteolytic Enzyme / Huston R.B., Krebs E.G. // Biochemistry – 1968. – Т. 7 – № 6 – С.2116–2122."
   ]
  },
  {
   "cell_type": "code",
   "execution_count": 103,
   "metadata": {},
   "outputs": [],
   "source": [
    "# для нахождения нужных ключей словаря\n",
    "\n",
    "import json\n",
    "# print(json.dumps(paper['PubmedArticle'], indent=2))"
   ]
  },
  {
   "cell_type": "code",
   "execution_count": 72,
   "metadata": {},
   "outputs": [
    {
     "data": {
      "text/plain": [
       "DictElement({'Volume': '7', 'Issue': '6', 'PubDate': {'Year': '1968', 'Month': 'Jun'}}, attributes={'CitedMedium': 'Print'})"
      ]
     },
     "execution_count": 72,
     "metadata": {},
     "output_type": "execute_result"
    }
   ],
   "source": [
    "paper['PubmedArticle'][0]['MedlineCitation']['Article']['Journal']['JournalIssue']"
   ]
  },
  {
   "cell_type": "code",
   "execution_count": 152,
   "metadata": {},
   "outputs": [],
   "source": [
    "# get journal info\n",
    "\n",
    "journal_info = paper['PubmedArticle'][0]['MedlineCitation']['Article']['Journal']\n",
    "journal_title = journal_info['Title']\n",
    "journal_volume = 'T. ' + journal_info['JournalIssue']['Volume']                                              # (e.x. \"T. 7\")\n",
    "journal_issue = '№ ' + journal_info['JournalIssue']['Issue']                                                 # (e.x. \"№ 6\")\n",
    "journal_year = journal_info['JournalIssue']['PubDate']['Year'] + '.'                                         # (e.x. \"1968.\")\n",
    "\n",
    "journal_pages = 'C.' + paper['PubmedArticle'][0]['MedlineCitation']['Article']['Pagination']['MedlinePgn']  # (e.x. \"С.2116–2122.\")"
   ]
  },
  {
   "cell_type": "code",
   "execution_count": 153,
   "metadata": {},
   "outputs": [],
   "source": [
    "# get all authors from article\n",
    "\n",
    "authors = []\n",
    "\n",
    "for author in paper['PubmedArticle'][0]['MedlineCitation']['Article']['AuthorList']:\n",
    "    initials = author['ForeName']                            # get author's initials          (e.x. \"R B\")\n",
    "    initials_w_dots = '.'.join(initials.split())+'.'         # add dots                       (e.x. \"R. B.\")\n",
    "    last_name = author['LastName']                           # extract author's last name     (e.x. \"Huston\")\n",
    "    \n",
    "    full_name = ' '.join([last_name, initials_w_dots])       # combine last name and initials (e.x. \"Huston R.B.\")\n",
    "    authors.append(full_name)\n",
    "    \n",
    "first_author = authors[0]"
   ]
  },
  {
   "cell_type": "code",
   "execution_count": 154,
   "metadata": {},
   "outputs": [],
   "source": [
    "# get article title\n",
    "\n",
    "article_title = paper['PubmedArticle'][0]['MedlineCitation']['Article']['ArticleTitle']"
   ]
  },
  {
   "cell_type": "code",
   "execution_count": 155,
   "metadata": {},
   "outputs": [
    {
     "data": {
      "text/plain": [
       "'Huston R.B. Activation of skeletal muscle phosphorylase kinase by Ca2+. II. Identification of the kinase activating factor as a proteolytic enzyme. / Huston R.B., Krebs E.G. // Biochemistry – 1968. – T. 7 – № 6 – C.2116-22'"
      ]
     },
     "execution_count": 155,
     "metadata": {},
     "output_type": "execute_result"
    }
   ],
   "source": [
    "# cobmine all info to get citation\n",
    "\n",
    "citation = ' '.join([first_author, article_title, '/', \n",
    "                     ', '.join(authors), '//',\n",
    "                     journal_title, '–', journal_year, '–', journal_volume, '–', journal_issue, '–', journal_pages])\n",
    "citation"
   ]
  },
  {
   "cell_type": "markdown",
   "metadata": {},
   "source": [
    "Получили:\n",
    "\n",
    "Huston R.B. Activation of skeletal muscle phosphorylase kinase by Ca2+. II. Identification of the kinase activating factor as a proteolytic enzyme. / Huston R.B., Krebs E.G. // Biochemistry – 1968. – T. 7 – № 6 – C.2116-22"
   ]
  },
  {
   "cell_type": "markdown",
   "metadata": {},
   "source": [
    "Результат для статьи с PMID = 5660041 должен выглядеть так:\n",
    "\n",
    "Huston R.B. Activation of Skeletal Muscle Phosphorylase Kinase by Ca2+. II. Identification of the Kinase Activating Factor as a Proteolytic Enzyme / Huston R.B., Krebs E.G. // Biochemistry – 1968. – Т. 7 – № 6 – С.2116–2122."
   ]
  },
  {
   "cell_type": "code",
   "execution_count": null,
   "metadata": {},
   "outputs": [],
   "source": []
  },
  {
   "cell_type": "code",
   "execution_count": 144,
   "metadata": {},
   "outputs": [
    {
     "data": {
      "text/plain": [
       "'C. 2116-22'"
      ]
     },
     "execution_count": 144,
     "metadata": {},
     "output_type": "execute_result"
    }
   ],
   "source": [
    "journal_pages_copy = journal_pages\n",
    "journal_pages_copy"
   ]
  },
  {
   "cell_type": "code",
   "execution_count": 145,
   "metadata": {},
   "outputs": [],
   "source": [
    "# если номер END страницы меньше, чем у START,\n",
    "# то мы делаем 2116 -> (//100) -> 2100 -> (+22) -> 2122\n",
    "\n",
    "splitted_pages = list(map(int, journal_pages_copy[3:].split('-')))\n",
    "\n",
    "if splitted_pages[1] < splitted_pages[0]:\n",
    "    splitted_pages[1] = splitted_pages[0] // 10**len(str(splitted_pages[1])) * 10**len(str(splitted_pages[1])) + splitted_pages[1]"
   ]
  },
  {
   "cell_type": "code",
   "execution_count": 146,
   "metadata": {},
   "outputs": [
    {
     "data": {
      "text/plain": [
       "[2116, 2122]"
      ]
     },
     "execution_count": 146,
     "metadata": {},
     "output_type": "execute_result"
    }
   ],
   "source": [
    "splitted_pages"
   ]
  },
  {
   "cell_type": "code",
   "execution_count": 157,
   "metadata": {},
   "outputs": [
    {
     "data": {
      "text/plain": [
       "'C.2116–2122'"
      ]
     },
     "execution_count": 157,
     "metadata": {},
     "output_type": "execute_result"
    }
   ],
   "source": [
    "pages = 'C.' + '–'.join(list(map(str, splitted_pages)))\n",
    "pages"
   ]
  },
  {
   "cell_type": "code",
   "execution_count": 122,
   "metadata": {},
   "outputs": [
    {
     "data": {
      "text/plain": [
       "[2116, 22]"
      ]
     },
     "execution_count": 122,
     "metadata": {},
     "output_type": "execute_result"
    }
   ],
   "source": [
    "# ну и дальше склеиваем. Как-нибудь так можно переформатировать номера страниц, если нужно"
   ]
  },
  {
   "cell_type": "code",
   "execution_count": null,
   "metadata": {},
   "outputs": [],
   "source": []
  },
  {
   "cell_type": "code",
   "execution_count": null,
   "metadata": {},
   "outputs": [],
   "source": [
    "# наверное можно было сделать и проще\n",
    "# а ещё можно подавать список из PMID в id у Entrez.esummary и в функцию fetch_details\n",
    "# короче читай мануал по библиотеке"
   ]
  },
  {
   "cell_type": "code",
   "execution_count": 162,
   "metadata": {},
   "outputs": [
    {
     "name": "stdout",
     "output_type": "stream",
     "text": [
      "{'Item': [], 'Id': '5660041', 'PubDate': '1968 Jun', 'EPubDate': '', 'Source': 'Biochemistry', 'AuthorList': ['Huston RB', 'Krebs EG'], 'LastAuthor': 'Krebs EG', 'Title': 'Activation of skeletal muscle phosphorylase kinase by Ca2+. II. Identification of the kinase activating factor as a proteolytic enzyme.', 'Volume': '7', 'Issue': '6', 'Pages': '2116-22', 'LangList': ['English'], 'NlmUniqueID': '0370623', 'ISSN': '0006-2960', 'ESSN': '1520-4995', 'PubTypeList': ['Journal Article'], 'RecordStatus': 'PubMed - indexed for MEDLINE', 'PubStatus': 'ppublish', 'ArticleIds': {'pubmed': ['5660041'], 'medline': [], 'doi': '10.1021/bi00846a014', 'rid': '5660041', 'eid': '5660041'}, 'DOI': '10.1021/bi00846a014', 'History': {'pubmed': ['1968/06/01 00:00'], 'medline': ['1968/06/01 00:01'], 'entrez': '1968/06/01 00:00'}, 'References': [], 'HasAbstract': IntegerElement(0, attributes={}), 'PmcRefCount': IntegerElement(23, attributes={}), 'FullJournalName': 'Biochemistry', 'ELocationID': '', 'SO': '1968 Jun;7(6):2116-22'}\n"
     ]
    }
   ],
   "source": [
    "handle = Entrez.esummary(db=\"pubmed\", id=\"5660041\", retmode=\"xml\")\n",
    "records = Entrez.parse(handle)\n",
    "for record in records:\n",
    "    print(record)\n",
    "    \n",
    "handle.close()  # не забывать"
   ]
  },
  {
   "cell_type": "code",
   "execution_count": null,
   "metadata": {},
   "outputs": [],
   "source": []
  },
  {
   "cell_type": "code",
   "execution_count": null,
   "metadata": {},
   "outputs": [],
   "source": []
  }
 ],
 "metadata": {
  "kernelspec": {
   "display_name": "Python 3",
   "language": "python",
   "name": "python3"
  },
  "language_info": {
   "codemirror_mode": {
    "name": "ipython",
    "version": 3
   },
   "file_extension": ".py",
   "mimetype": "text/x-python",
   "name": "python",
   "nbconvert_exporter": "python",
   "pygments_lexer": "ipython3",
   "version": "3.8.0"
  }
 },
 "nbformat": 4,
 "nbformat_minor": 4
}
